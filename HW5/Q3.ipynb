{
 "cells": [
  {
   "cell_type": "code",
   "execution_count": 8,
   "id": "cfaf3efa",
   "metadata": {},
   "outputs": [
    {
     "name": "stdout",
     "output_type": "stream",
     "text": [
      "[[ 68  23  30 -24]\n",
      " [-54 -19   0   6]\n",
      " [ 38   8 -17  27]\n",
      " [ 20 -47 -19 -13]]\n"
     ]
    }
   ],
   "source": [
    "import numpy as np\n",
    "from scipy.signal import convolve2d\n",
    "\n",
    "A = np.array( [[1, 0, -2, 3, 4, 1],\n",
    "[2, 9, 5, 6, 0, -1],\n",
    "[0, -3, 1, 3, 4, 4],\n",
    "[6, 5, 2, 0, 6, 8],\n",
    "[-5, 4, -3, 1, 3, -2],\n",
    "[4, 1, 2, 8, 9, 7]])\n",
    "B = np.array( [[-1, -1, -1],\n",
    "[-1, 8, -1],\n",
    "[-1, -1, -1]])\n",
    "C = convolve2d(A, B, 'valid')\n",
    "print(C)"
   ]
  },
  {
   "cell_type": "code",
   "execution_count": 9,
   "id": "f694e0fe",
   "metadata": {},
   "outputs": [
    {
     "name": "stdout",
     "output_type": "stream",
     "text": [
      "[[ 68.  23.  30. -24.]\n",
      " [-54. -19.   0.   6.]\n",
      " [ 38.   8. -17.  27.]\n",
      " [ 20. -47. -19. -13.]]\n"
     ]
    }
   ],
   "source": [
    "import numpy as np\n",
    "\n",
    "X = np.array([[1, 0, -2, 3, 4, 1],\n",
    "              [2, 9, 5, 6, 0, -1],\n",
    "              [0, -3, 1, 3, 4, 4],\n",
    "              [6, 5, 2, 0, 6, 8],\n",
    "              [-5, 4, -3, 1, 3, -2],\n",
    "              [4, 1, 2, 8, 9, 7]])\n",
    "\n",
    "F = np.array([[-1, -1, -1],\n",
    "              [-1, 8, -1],\n",
    "              [-1, -1, -1]])\n",
    "\n",
    "stride = 1\n",
    "\n",
    "# Get dimensions\n",
    "input_height, input_width = X.shape\n",
    "filter_height, filter_width = F.shape\n",
    "\n",
    "# Compute output dimensions\n",
    "output_height = (input_height - filter_height) // stride + 1\n",
    "output_width = (input_width - filter_width) // stride + 1\n",
    "\n",
    "# Initialize output array\n",
    "Y = np.zeros((output_height, output_width))\n",
    "\n",
    "# Perform convolution\n",
    "for i in range(output_height):\n",
    "    for j in range(output_width):\n",
    "        X_sub = X[i:i+filter_height, j:j+filter_width]\n",
    "        Y[i, j] = np.sum(X_sub * F)\n",
    "\n",
    "# Print the output Y\n",
    "print(Y)"
   ]
  },
  {
   "cell_type": "code",
   "execution_count": 21,
   "id": "2f45da59",
   "metadata": {},
   "outputs": [],
   "source": [
    "A = np.array([[1, 0, -2],\n",
    "[2, 9, 5],\n",
    "[0, -3, 1]])"
   ]
  },
  {
   "cell_type": "code",
   "execution_count": 22,
   "id": "81993c22",
   "metadata": {},
   "outputs": [],
   "source": [
    "B = np.array( [[-1, -1, -1],\n",
    "[-1, 8, -1],\n",
    "[-1, -1, -1]])"
   ]
  },
  {
   "cell_type": "code",
   "execution_count": 23,
   "id": "5c132f57",
   "metadata": {},
   "outputs": [
    {
     "name": "stdout",
     "output_type": "stream",
     "text": [
      "[[-1  0  2]\n",
      " [-2 72 -5]\n",
      " [ 0  3 -1]]\n"
     ]
    }
   ],
   "source": [
    "print(A*B)"
   ]
  },
  {
   "cell_type": "code",
   "execution_count": 2,
   "id": "0eb1cfaa",
   "metadata": {},
   "outputs": [],
   "source": [
    "import torch"
   ]
  },
  {
   "cell_type": "code",
   "execution_count": 7,
   "id": "88f3174c",
   "metadata": {},
   "outputs": [],
   "source": [
    "filters = torch.randn(6,3,3,3)\n",
    "inputs = torch.randn(1, 3, 16, 16)\n",
    "output = torch.nn.functional.conv2d(inputs, filters, bias=None, stride=2, padding=1, dilation=1, groups=1)"
   ]
  },
  {
   "cell_type": "code",
   "execution_count": 8,
   "id": "ee81589f",
   "metadata": {},
   "outputs": [
    {
     "name": "stdout",
     "output_type": "stream",
     "text": [
      "torch.Size([1, 6, 8, 8])\n"
     ]
    }
   ],
   "source": [
    "print(output.shape)"
   ]
  },
  {
   "cell_type": "code",
   "execution_count": null,
   "id": "23e75429",
   "metadata": {},
   "outputs": [],
   "source": []
  }
 ],
 "metadata": {
  "kernelspec": {
   "display_name": "Python 3 (ipykernel)",
   "language": "python",
   "name": "python3"
  },
  "language_info": {
   "codemirror_mode": {
    "name": "ipython",
    "version": 3
   },
   "file_extension": ".py",
   "mimetype": "text/x-python",
   "name": "python",
   "nbconvert_exporter": "python",
   "pygments_lexer": "ipython3",
   "version": "3.9.13"
  }
 },
 "nbformat": 4,
 "nbformat_minor": 5
}
